{
 "cells": [
  {
   "cell_type": "code",
   "execution_count": 19,
   "id": "dfdf64b8",
   "metadata": {},
   "outputs": [],
   "source": [
    "import pandas as pd\n",
    "import numpy as np\n",
    "from sklearn.model_selection import train_test_split\n",
    "from sklearn.preprocessing import StandardScaler, MinMaxScaler\n",
    "from xgboost import XGBClassifier\n",
    "import math\n",
    "from itertools import combinations\n",
    "from sklearn.metrics import log_loss\n",
    "from sklearn.linear_model import LogisticRegression\n",
    "from sklearn.neighbors import KNeighborsClassifier\n",
    "from sklearn.impute import SimpleImputer\n",
    "from sklearn.preprocessing import LabelEncoder"
   ]
  },
  {
   "cell_type": "code",
   "execution_count": 22,
   "id": "57ecb215",
   "metadata": {},
   "outputs": [],
   "source": [
    "data_path = \"C:\\\\Users\\\\thoma\\\\Hackaton-groupe-7\\\\Data_bases_csv\\\\waiting_times_train.csv\"\n",
    "val_path = \"C:\\\\Users\\\\thoma\\\\Hackaton-groupe-7\\\\Data_bases_csv\\\\waiting_times_X_test_val.csv\"\n",
    "output_path = \"C:\\\\Users\\\\thoma\\\\Hackaton-groupe-7\\\\Data_bases_csv\\\\waiting_times_train_sorted.csv\"\n",
    "output_path_val = \"C:\\\\Users\\\\thoma\\\\Hackaton-groupe-7\\\\Data_bases_csv\\\\waiting_times_val_sorted.csv\"\n",
    "\n",
    "df = pd.read_csv(data_path)\n",
    "val = pd.read_csv(val_path)\n",
    "\n",
    "df['DATETIME'] = pd.to_datetime(df['DATETIME'], errors=\"raise\", format=\"%Y-%m-%d %H:%M:%S\")\n",
    "df = df.sort_values(by=\"DATETIME\").reset_index(drop=True)\n",
    "\n",
    "df['year'] = df['DATETIME'].dt.year\n",
    "df['month'] = df['DATETIME'].dt.month\n",
    "df['weekday'] = df['DATETIME'].dt.weekday\n",
    "df['hour'] = df['DATETIME'].dt.hour\n",
    "df['minute'] = df['DATETIME'].dt.minute\n",
    "\n",
    "df.to_csv(output_path, index=False)\n",
    "\n",
    "\n",
    "val['DATETIME'] = pd.to_datetime(val['DATETIME'], errors=\"raise\", format=\"%Y-%m-%d %H:%M:%S\")\n",
    "val = val.sort_values(by=\"DATETIME\").reset_index(drop=True)\n",
    "\n",
    "val['year'] = val['DATETIME'].dt.year\n",
    "val['month'] = val['DATETIME'].dt.month\n",
    "val['weekday'] = val['DATETIME'].dt.weekday\n",
    "val['hour'] = val['DATETIME'].dt.hour\n",
    "val['minute'] = val['DATETIME'].dt.minute\n",
    "\n",
    "val.to_csv(output_path_val, index=False)\n"
   ]
  }
 ],
 "metadata": {
  "kernelspec": {
   "display_name": "Python 3",
   "language": "python",
   "name": "python3"
  },
  "language_info": {
   "codemirror_mode": {
    "name": "ipython",
    "version": 3
   },
   "file_extension": ".py",
   "mimetype": "text/x-python",
   "name": "python",
   "nbconvert_exporter": "python",
   "pygments_lexer": "ipython3",
   "version": "3.12.4"
  }
 },
 "nbformat": 4,
 "nbformat_minor": 5
}
